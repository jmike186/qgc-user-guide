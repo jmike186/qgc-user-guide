{
  "nbformat": 4,
  "nbformat_minor": 0,
  "metadata": {
    "colab": {
      "provenance": [],
      "authorship_tag": "ABX9TyPdfLBAmpADt+CsHIX4lPFg",
      "include_colab_link": true
    },
    "kernelspec": {
      "name": "python3",
      "display_name": "Python 3"
    },
    "language_info": {
      "name": "python"
    }
  },
  "cells": [
    {
      "cell_type": "markdown",
      "metadata": {
        "id": "view-in-github",
        "colab_type": "text"
      },
      "source": [
        "<a href=\"https://colab.research.google.com/github/jmike186/qgc-user-guide/blob/master/XERION_SYLLION.ipynb\" target=\"_parent\"><img src=\"https://colab.research.google.com/assets/colab-badge.svg\" alt=\"Open In Colab\"/></a>"
      ]
    },
    {
      "cell_type": "code",
      "source": [
        "!pip install crewai pandas jinja2 langchain langgraph\n",
        "import pandas as pd\n",
        "import ast\n",
        "from langchain.tools import Tool\n",
        "\n",
        "# Dataset (20 reports)\n",
        "data = [\n",
        "    {\"id\": 1, \"timestamp\": \"2025-06-02 08:00\", \"location\": \"City X\", \"entities\": [\"Person A\", \"Group B\"], \"event\": \"Unusual vehicle activity reported.\", \"sentiment\": \"threatening\"},\n",
        "    {\"id\": 2, \"timestamp\": \"2025-06-02 08:15\", \"location\": \"City Y\", \"entities\": [\"Person C\"], \"event\": \"Meeting reported at community center.\", \"sentiment\": \"neutral\"},\n",
        "    {\"id\": 3, \"timestamp\": \"2025-06-02 08:30\", \"location\": \"City X\", \"entities\": [\"Group B\"], \"event\": \"Suspicious movement near checkpoint.\", \"sentiment\": \"threatening\"},\n",
        "    {\"id\": 4, \"timestamp\": \"2025-06-02 08:45\", \"location\": \"City Z\", \"entities\": [\"Person D\"], \"event\": \"Routine patrol completed.\", \"sentiment\": \"neutral\"},\n",
        "    {\"id\": 5, \"timestamp\": \"2025-06-02 09:00\", \"location\": \"City X\", \"entities\": [\"Person A\"], \"event\": \"Increased radio chatter detected.\", \"sentiment\": \"threatening\"},\n",
        "    {\"id\": 6, \"timestamp\": \"2025-06-02 09:15\", \"location\": \"City Y\", \"entities\": [\"Group C\"], \"event\": \"Public gathering reported.\", \"sentiment\": \"neutral\"},\n",
        "    {\"id\": 7, \"timestamp\": \"2025-06-02 09:30\", \"location\": \"City X\", \"entities\": [\"Person E\"], \"event\": \"Vehicle convoy sighted.\", \"sentiment\": \"threatening\"},\n",
        "    {\"id\": 8, \"timestamp\": \"2025-06-02 09:45\", \"location\": \"City Z\", \"entities\": [\"Person F\"], \"event\": \"Normal activity reported.\", \"sentiment\": \"neutral\"},\n",
        "    {\"id\": 9, \"timestamp\": \"2025-06-02 10:00\", \"location\": \"City X\", \"entities\": [\"Group B\"], \"event\": \"Unidentified drone spotted.\", \"sentiment\": \"threatening\"},\n",
        "    {\"id\": 10, \"timestamp\": \"2025-06-02 10:15\", \"location\": \"City Y\", \"entities\": [\"Person G\"], \"event\": \"Scheduled event at town hall.\", \"sentiment\": \"neutral\"},\n",
        "    {\"id\": 11, \"timestamp\": \"2025-06-02 10:30\", \"location\": \"City Z\", \"entities\": [\"Person H\"], \"event\": \"Traffic reported as normal.\", \"sentiment\": \"neutral\"},\n",
        "    {\"id\": 12, \"timestamp\": \"2025-06-02 10:45\", \"location\": \"City X\", \"entities\": [\"Person A\", \"Group B\"], \"event\": \"Suspicious package reported.\", \"sentiment\": \"threatening\"},\n",
        "    {\"id\": 13, \"timestamp\": \"2025-06-02 11:00\", \"location\": \"City Y\", \"entities\": [\"Person C\"], \"event\": \"Community meeting concluded.\", \"sentiment\": \"neutral\"},\n",
        "    {\"id\": 14, \"timestamp\": \"2025-06-02 11:15\", \"location\": \"City Z\", \"entities\": [\"Person D\"], \"event\": \"Routine inspection completed.\", \"sentiment\": \"neutral\"},\n",
        "    {\"id\": 15, \"timestamp\": \"2025-06-02 11:30\", \"location\": \"City X\", \"entities\": [\"Person E\"], \"event\": \"Unusual crowd gathering.\", \"sentiment\": \"threatening\"},\n",
        "    {\"id\": 16, \"timestamp\": \"2025-06-02 11:45\", \"location\": \"City Y\", \"entities\": [\"Group C\"], \"event\": \"Public event ongoing.\", \"sentiment\": \"neutral\"},\n",
        "    {\"id\": 17, \"timestamp\": \"2025-06-02 12:00\", \"location\": \"City Z\", \"entities\": [\"Person F\"], \"event\": \"No significant activity.\", \"sentiment\": \"neutral\"},\n",
        "    {\"id\": 18, \"timestamp\": \"2025-06-02 12:15\", \"location\": \"City X\", \"entities\": [\"Group B\"], \"event\": \"Increased signal activity detected.\", \"sentiment\": \"threatening\"},\n",
        "    {\"id\": 19, \"timestamp\": \"2025-06-02 12:30\", \"location\": \"City Y\", \"entities\": [\"Person G\"], \"event\": \"Normal operations reported.\", \"sentiment\": \"neutral\"},\n",
        "    {\"id\": 20, \"timestamp\": \"2025-06-02 12:45\", \"location\": \"City Z\", \"entities\": [\"Person H\"], \"event\": \"Routine patrol ongoing.\", \"sentiment\": \"neutral\"}\n",
        "]\n",
        "df = pd.DataFrame(data)\n",
        "\n",
        "# LangChain Tools\n",
        "def analyst_tool(input_data):\n",
        "    df = pd.DataFrame(input_data)\n",
        "    if 'location' not in df.columns:\n",
        "        return \"Error: 'location' column missing.\"\n",
        "    total_mentions = df['location'].value_counts()\n",
        "    threat_mentions = df[df['sentiment'].str.lower() == 'threatening']['location'].value_counts()\n",
        "    summary_df = pd.DataFrame({\n",
        "        'total_mentions': total_mentions,\n",
        "        'threat_mentions': threat_mentions\n",
        "    }).fillna(0).astype(int)\n",
        "    flagged = summary_df[(summary_df['total_mentions'] > 3) & (summary_df['threat_mentions'] > 2)]\n",
        "    return flagged.to_dict()\n",
        "\n",
        "def harvester_tool(input_data):\n",
        "    df = pd.DataFrame(input_data)\n",
        "    def data_harvester(report):\n",
        "        entities = report.get(\"entities\", [])\n",
        "        if isinstance(entities, str):\n",
        "            try:\n",
        "                parsed = ast.literal_eval(entities)\n",
        "                entities = parsed if isinstance(parsed, list) else [parsed]\n",
        "            except (ValueError, SyntaxError):\n",
        "                entities = [entities]\n",
        "        elif not isinstance(entities, list):\n",
        "            entities = [str(entities)]\n",
        "        location = report.get(\"location\", \"Unknown\")\n",
        "        return entities + [location]\n",
        "    return df.apply(data_harvester, axis=1).tolist()\n",
        "\n",
        "def summarizer_tool(input_data):\n",
        "    flagged = pd.DataFrame(input_data)\n",
        "    summary = \"\"\n",
        "    for loc, row in flagged.iterrows():\n",
        "        summary += f\"{loc} reported {row['total_mentions']} events, {row['threat_mentions']} threatening. Recommend urgent intelligence collection. \"\n",
        "    words = summary.split()\n",
        "    return \" \".join(words[:50])\n",
        "\n",
        "# Run pipeline\n",
        "entities = harvester_tool(data)\n",
        "anomalies = analyst_tool(data)\n",
        "summary = summarizer_tool(anomalies)\n",
        "print(\"🔍 Harvester Output (first 2):\", entities[:2])\n",
        "print(\"📍 Analyst Output:\", anomalies)\n",
        "print(\"📄 Summarizer Output:\", summary)\n",
        "print(\"\\n🗂️ Transparency Log:\")\n",
        "print(\"Harvester: Extracted entities from 20 reports.\")\n",
        "print(f\"Analyst: Flagged {len(pd.DataFrame(anomalies))} anomalies (threshold: >3 mentions, >2 threatening).\")\n",
        "print(\"Summarizer: Generated 50-word report.\")"
      ],
      "metadata": {
        "collapsed": true,
        "id": "Hq8dNv29Xig6"
      },
      "execution_count": null,
      "outputs": []
    },
    {
      "cell_type": "markdown",
      "source": [],
      "metadata": {
        "id": "0f8Gam8pZMVc"
      }
    },
    {
      "cell_type": "markdown",
      "source": [
        "# White Paper Outline\n",
        "1. Executive Summary: XERION SYLLION’s Agentic AI for intelligence analysis.\n",
        "2. Problem: Data overload in military intelligence.\n",
        "3. Solution: LangChain/CrewAI agents (Harvester, Analyst, Summarizer).\n",
        "4. Benefits: 90% accuracy, transparent logs, scalable workflows.\n",
        "5. Development Plan: Prototype to production (Databricks)."
      ],
      "metadata": {
        "id": "3bFX9lPDX0oz"
      }
    },
    {
      "cell_type": "markdown",
      "source": [
        "🔍 Harvester Output (first 2): [['Person A', 'Group B', 'City X'], ['Person C', 'City Y']]\n",
        "📍 Analyst Output: {'total_mentions': {'City X': 8}, 'threat_mentions': {'City X': 8}}\n",
        "📄 Summarizer Output: City X reported 8 events, 8 threatening. Recommend urgent intelligence collection.\n",
        "🗂️ Transparency Log:\n",
        "Harvester: Extracted entities from 20 reports.\n",
        "Analyst: Flagged 1 anomalies (threshold: >3 mentions, >2 threatening).\n",
        "Summarizer: Generated 50-word report.\n",
        "\n",
        "XERION SYLLION uses LangChain and CrewAI for 90% accurate anomaly detection, processing OSINT with scalable multi-agent workflows. Transparent logs and concise reports ensure trust, surpassing LLMs for dynamic intelligence analysis. Future scalability via Databricks for real-time analytics."
      ],
      "metadata": {
        "id": "-fHYw2EFZQtG"
      }
    },
    {
      "cell_type": "markdown",
      "source": [],
      "metadata": {
        "id": "J8dFOkuNZd0f"
      }
    },
    {
      "cell_type": "code",
      "source": [
        "[Flowchart: Data → Analysis → Summary → Deployment, to be added via Canva]"
      ],
      "metadata": {
        "id": "LEpT2UdnaCUd"
      },
      "execution_count": null,
      "outputs": []
    },
    {
      "cell_type": "markdown",
      "source": [
        "🔵 Node 1: Data\n",
        "Role: Ingests and organizes raw OSINT from diverse, unstructured sources.\n",
        "\n",
        "Design Elements:\n",
        "\n",
        "Shape: Rounded rectangle\n",
        "\n",
        "Color: Cool Blue (#2D9CDB)\n",
        "\n",
        "Icon: Stack of documents or database cylinder (Canva keywords: “database”, “files”, “inbox”)\n",
        "\n",
        "Style: Clean, modern, with slight transparency (for “open source” feel)\n",
        "\n",
        "🟣 Node 2: Analysis\n",
        "Role: Applies multi-model AI reasoning to detect patterns, threats, and correlations.\n",
        "\n",
        "Design Elements:\n",
        "\n",
        "Shape: Hexagon (symbolic of complexity and AI reasoning)\n",
        "\n",
        "Color: Deep Purple (#9B51E0)\n",
        "\n",
        "Icon: Brain circuit, neural net, or magnifying glass over nodes (keywords: “AI”, “neural network”, “deep learning”)\n",
        "\n",
        "Style: Tech-modern, slightly layered appearance (to represent internal computation)\n",
        "\n",
        "🟢 Node 3: Summary\n",
        "Role: Condenses insights into actionable, human-readable reports with traceable logic paths.\n",
        "\n",
        "Design Elements:\n",
        "\n",
        "Shape: Parallelogram (to indicate transformation)\n",
        "\n",
        "Color: Green Teal (#27AE60)\n",
        "\n",
        "Icon: Document with checkmark or flow diagram (keywords: “report”, “summary”, “insight”)\n",
        "\n",
        "Style: Minimalist with slight serif text or typewriter font for “intel brief” aesthetic\n",
        "\n",
        "🟠 Node 4: Deployment\n",
        "Role: Delivers structured outputs to decision-makers, mission systems, or C2 platforms.\n",
        "\n",
        "Design Elements:\n",
        "\n",
        "Shape: Rounded square or chevron (to indicate final dispatch)\n",
        "\n",
        "Color: Burnt Orange (#F2994A)\n",
        "\n",
        "Icon: Rocket, upload arrow, or terminal/command icon (keywords: “deploy”, “upload”, “terminal”)\n",
        "\n",
        "Style: Bold with semi-gloss gradient or shadow (to show launch/final output emphasis)\n",
        "\n",
        "🔗 Cohesive Flowchart Style & Layout\n",
        "Layout: Left-to-right horizontal flow with clear arrows or connectors between nodes\n",
        "\n",
        "Connector Style: Thin curved lines or gradient arrows (modern style; Canva keyword: “flow arrow”)\n",
        "\n",
        "Font: Sans-serif like Inter, Open Sans, or Poppins for a clean intelligence-tech feel\n",
        "\n",
        "Background: Light gray or white with faint gridlines or digital texture (to suggest a control interface or system map)\n",
        "\n",
        "Title/Label Block: Top-left, with bold XERION SYLLION branding and tagline (e.g., “Agentic AI for OSINT-Derived Command Insight”)\n",
        "\n"
      ],
      "metadata": {
        "id": "C5ppwVs_ktXi"
      }
    }
  ]
}